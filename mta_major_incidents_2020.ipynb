{
  "nbformat": 4,
  "nbformat_minor": 0,
  "metadata": {
    "colab": {
      "provenance": [],
      "authorship_tag": "ABX9TyPF5iffyxZ32m29eL+Ig4i0",
      "include_colab_link": true
    },
    "kernelspec": {
      "name": "python3",
      "display_name": "Python 3"
    },
    "language_info": {
      "name": "python"
    }
  },
  "cells": [
    {
      "cell_type": "markdown",
      "metadata": {
        "id": "view-in-github",
        "colab_type": "text"
      },
      "source": [
        "<a href=\"https://colab.research.google.com/github/wdavjr/wd-mta-major-incidents-analysis/blob/main/mta_major_incidents_2020.ipynb\" target=\"_parent\"><img src=\"https://colab.research.google.com/assets/colab-badge.svg\" alt=\"Open In Colab\"/></a>"
      ]
    },
    {
      "cell_type": "markdown",
      "source": [
        "# MTA Subway Major Incidents\n",
        "\n",
        "Name: Willie L. Davis, Jr.\n",
        "\n",
        "Date: 12/29/2024\n",
        "\n",
        "### Contact\n",
        "\n",
        "Twitter:\n",
        "\n",
        "GitHub:\n",
        "\n",
        "Email:"
      ],
      "metadata": {
        "id": "s7HBD0znqdyh"
      }
    },
    {
      "cell_type": "markdown",
      "source": [
        "## Introduction\n",
        "\n",
        "### Welcome to the MTA Subway Major Incidents Analysis!\n",
        "\n",
        "Are you curious about the factors causing major delays in the largest public transportation network in North America? Perhaps you’re interested in understanding the root causes of disruptions or analyzing trends to inform better decision-making. This tutorial is designed to help you dive deep into the MTA Subway Major Incidents dataset, even if you're new to data analysis.\n",
        "\n",
        "In this tutorial, we'll guide you step-by-step through the process of exploring, analyzing, and visualizing data on unplanned incidents that disrupt subway service. You'll learn how to clean and structure the dataset, uncover key insights, and create compelling visualizations to communicate your findings effectively.\n",
        "\n",
        "**What You'll Learn:**\n",
        "\n",
        "1. **Understanding the Dataset**: Get acquainted with the MTA Subway Major Incidents dataset, including its structure, categories, and limitations.\n",
        "2. **Data Cleaning and Preparation**: Learn how to preprocess the data to handle inconsistencies and ensure accurate analysis.\n",
        "3. **Exploratory Data Analysis (EDA)**: Analyze trends, identify patterns, and uncover insights across subway lines and incident categories.\n",
        "4. **Data Visualization**: Create insightful plots to highlight trends and communicate key findings effectively.\n",
        "5. **Statistical Analysis**: Understand the broader implications of major incident categories and their impact on subway performance.\n",
        "\n",
        "By the end of this tutorial, you'll have a solid understanding of the MTA Subway Major Incidents dataset and the tools to perform insightful analysis. Whether you're a transportation enthusiast, a data analyst, or a policymaker, this tutorial will empower you to explore and understand the dynamics of major subway disruptions.\n",
        "\n",
        "Let's get started and uncover the stories hidden in the data!"
      ],
      "metadata": {
        "id": "qq5TRioYrh1_"
      }
    },
    {
      "cell_type": "markdown",
      "source": [
        "## Install Required Packages\n",
        "\n",
        "First, ensure you have the required packages installed. Run the following command in a Jupyter notebook cell:\n",
        "\n",
        "!pip install pandas numpy matplotlib seaborn"
      ],
      "metadata": {
        "id": "Pvtwd2_JriNx"
      }
    },
    {
      "cell_type": "code",
      "source": [
        "# !pip install pandas numpy matplotlib seaborn"
      ],
      "metadata": {
        "id": "L2IYkyUCvsgq"
      },
      "execution_count": 2,
      "outputs": []
    },
    {
      "cell_type": "markdown",
      "source": [
        "## Import Necessary Libraries\n",
        "\n",
        "Import the necessary libraries for our analysis."
      ],
      "metadata": {
        "id": "0DrOgVn_riVv"
      }
    },
    {
      "cell_type": "code",
      "execution_count": 3,
      "metadata": {
        "id": "btCls4ZCkE8o"
      },
      "outputs": [],
      "source": [
        "import pandas as pd\n",
        "import numpy as np\n",
        "import matplotlib.pyplot as plt\n",
        "import seaborn as sns"
      ]
    },
    {
      "cell_type": "markdown",
      "source": [
        "## Load data and create DataFrame"
      ],
      "metadata": {
        "id": "BhLGAMfKwGOt"
      }
    },
    {
      "cell_type": "code",
      "source": [
        "def load_new_dataframe(file_path):\n",
        "    df = pd.read_csv(file_path)\n",
        "\n",
        "    # Define a mapping of month numbers to 3-letter month abbreviations\n",
        "    month_map = {1: 'Jan', 2: 'Feb', 3: 'Mar', 4: 'Apr', 5: 'May', 6: 'Jun',\n",
        "                 7: 'Jul', 8: 'Aug', 9: 'Sep', 10: 'Oct', 11: 'Nov', 12: 'Dec'}\n",
        "\n",
        "    # Convert 'month' to datetime, extract month, map to month names\n",
        "    df['month_name'] = pd.to_datetime(df['month'], errors='coerce').dt.month.map(month_map)\n",
        "\n",
        "    # Make sure 'month' is a datetime, and create 'month_year' column for year-month\n",
        "    df['month_year'] = pd.to_datetime(df['month'], errors='coerce').dt.to_period('M')\n",
        "\n",
        "    return df\n",
        "\n",
        "# Load data\n",
        "path = f'https://raw.githubusercontent.com/wdavjr/wd-mta-major-incidents-analysis/refs/heads/main/MTA_Subway_Major_Incidents__Beginning_2020.csv'\n",
        "incidents = load_new_dataframe(path)\n"
      ],
      "metadata": {
        "id": "MzaRyssUkZv5"
      },
      "execution_count": 4,
      "outputs": []
    },
    {
      "cell_type": "markdown",
      "source": [
        "### What is the total number of major incidents recorded in the dataset?\n"
      ],
      "metadata": {
        "id": "jeimo9qe1WU3"
      }
    },
    {
      "cell_type": "code",
      "source": [
        "# Calculate the total number of major incidents\n",
        "total_incidents = incidents['count'].sum()\n",
        "\n",
        "print(f\"Total number of major incidents: {total_incidents:,}\")"
      ],
      "metadata": {
        "colab": {
          "base_uri": "https://localhost:8080/"
        },
        "id": "arhiNspK1RQG",
        "outputId": "768fb32e-e56c-4bce-b584-875cda1cce63"
      },
      "execution_count": 5,
      "outputs": [
        {
          "output_type": "stream",
          "name": "stdout",
          "text": [
            "Total number of major incidents: 2,567\n"
          ]
        }
      ]
    },
    {
      "cell_type": "markdown",
      "source": [
        "### How many unique subway lines are included in the dataset?\n"
      ],
      "metadata": {
        "id": "VflKA2H_1evA"
      }
    },
    {
      "cell_type": "code",
      "source": [
        "# Calculate the unique count of subway lines\n",
        "unique_lines = incidents['line'].nunique()\n",
        "\n",
        "print(f\"Total number of unique subway lines: {unique_lines:,}\")"
      ],
      "metadata": {
        "colab": {
          "base_uri": "https://localhost:8080/"
        },
        "id": "RqsDsnVG1FfQ",
        "outputId": "78ca266a-2300-4396-c6c4-3b88c0f86fdb"
      },
      "execution_count": 6,
      "outputs": [
        {
          "output_type": "stream",
          "name": "stdout",
          "text": [
            "Total number of unique subway lines: 23\n"
          ]
        }
      ]
    },
    {
      "cell_type": "markdown",
      "source": [
        "### What are the distributions of incident counts across the six categories?"
      ],
      "metadata": {
        "id": "6c4Eu9sK1e6z"
      }
    },
    {
      "cell_type": "code",
      "source": [
        "# Group the 'incidents' DataFrame by the 'category' column.\n",
        "category_totals = (incidents.groupby('category')['count']\n",
        "                   .sum() # calculate the total number of incidents for each category\n",
        "                   .sort_values(ascending=False)\n",
        "                   )\n",
        "\n",
        "# Create a figure and axes explicitly\n",
        "fig, ax = plt.subplots(figsize=(10, 6))\n",
        "\n",
        "# Create the plot\n",
        "category_totals.plot(kind='barh', color='skyblue', edgecolor='black')\n",
        "\n",
        "# Add labels and title\n",
        "ax.set_xlabel('Total Incidents')  # Label for the x-axis\n",
        "ax.set_ylabel('Category')  # Label for the y-axis\n",
        "ax.set_title(\"Distribution of Incidents by Category\")\n",
        "\n",
        "# Show the plot\n",
        "plt.show()"
      ],
      "metadata": {
        "colab": {
          "base_uri": "https://localhost:8080/",
          "height": 564
        },
        "id": "sU0OQHFh1FjR",
        "outputId": "27213b8b-9631-4181-cd97-4cc9abc32971"
      },
      "execution_count": 7,
      "outputs": [
        {
          "output_type": "display_data",
          "data": {
            "text/plain": [
              "<Figure size 1000x600 with 1 Axes>"
            ],
            "image/png": "[encoded data removed]"
          },
          "metadata": {}
        }
      ]
    },
    {
      "cell_type": "markdown",
      "source": [
        "### What is the average number of incidents per month for each subway division?"
      ],
      "metadata": {
        "id": "oo5Iggno13XG"
      }
    },
    {
      "cell_type": "code",
      "source": [
        "# Group by both 'division' and 'month_name' and calculate the average incidents\n",
        "category_monthly_average = (incidents.groupby(['division', 'month_name'])['count']\n",
        "                            .agg('mean')  # Calculate the mean for each group\n",
        "                            .reset_index()  # Flatten the DataFrame for easier plotting\n",
        "                            .sort_values(by='month_name')  # Sort by month to maintain chronological order\n",
        "                            )\n",
        "\n",
        "# Create a figure and axes explicitly\n",
        "fig, ax = plt.subplots(figsize=(12, 8))\n",
        "\n",
        "# Pivot the data for easier plotting\n",
        "pivot_data = category_monthly_average.pivot(index='month_name', columns='division', values='count')\n",
        "\n",
        "# Create a bar plot (grouped bars)\n",
        "pivot_data.plot(kind='bar', ax=ax, width=0.8, colormap='tab20', edgecolor='black')\n",
        "\n",
        "# Add labels and title\n",
        "ax.set_xlabel('Month')\n",
        "ax.set_ylabel('Average Incidents')\n",
        "ax.set_title('Average Number of Incidents Per Month for Each Subway Division')\n",
        "\n",
        "# Rotate the x-axis labels for better readability\n",
        "plt.xticks(rotation=45)\n",
        "\n",
        "# Adjust layout for better spacing\n",
        "plt.tight_layout()\n",
        "\n",
        "# Display the plot\n",
        "plt.show()  # Ensure this is included to show the plot"
      ],
      "metadata": {
        "colab": {
          "base_uri": "https://localhost:8080/",
          "height": 780
        },
        "id": "lkid47HI2PQu",
        "outputId": "d164b3a0-fbf4-40ab-8251-f33286b6ddd3"
      },
      "execution_count": 8,
      "outputs": [
        {
          "output_type": "display_data",
          "data": {
            "text/plain": [
              "<Figure size 1200x800 with 1 Axes>"
            ],
            "image/png": "[encoded data removed]"
          },
          "metadata": {}
        }
      ]
    },
    {
      "cell_type": "markdown",
      "source": [
        "### How do the total incidents vary over time (month-wise trends)?\n"
      ],
      "metadata": {
        "id": "gNKN-I4j1vl7"
      }
    },
    {
      "cell_type": "code",
      "source": [
        "# Group by 'month_name' and sum 'count'\n",
        "grouped_monthly_incidents = incidents.groupby('month_name')['count'].sum()\n",
        "\n",
        "# Define the correct month order (Jan, Feb, ..., Dec)\n",
        "ordered_months = ['Jan', 'Feb', 'Mar', 'Apr', 'May', 'Jun', 'Jul', 'Aug', 'Sep', 'Oct', 'Nov', 'Dec']\n",
        "\n",
        "# Reorder the months in the correct order\n",
        "grouped_monthly_incidents = grouped_monthly_incidents[ordered_months]\n",
        "\n",
        "# Create figure and axes\n",
        "fig, ax = plt.subplots(figsize=(10, 6))  # You can adjust the size here\n",
        "\n",
        "# Plotting the bar chart on the axes 'ax'\n",
        "grouped_monthly_incidents.plot(kind='bar', ax=ax, color='skyblue', title='Major Incidents Over Time', edgecolor='black')\n",
        "\n",
        "# Add labels and title to the axes\n",
        "ax.set_xlabel('Month')\n",
        "ax.set_ylabel('Number of Incidents')\n",
        "\n",
        "# Improve x-axis readability and layout\n",
        "plt.xticks(rotation=0)  # Keep x-axis labels horizontal\n",
        "plt.tight_layout()  # Adjust layout to prevent clipping of labels\n",
        "\n",
        "# Show the plot\n",
        "plt.show()"
      ],
      "metadata": {
        "colab": {
          "base_uri": "https://localhost:8080/",
          "height": 607
        },
        "id": "K6oyT7r_1vPI",
        "outputId": "0dfa3dce-4d52-4987-faed-4b663c08098c"
      },
      "execution_count": 9,
      "outputs": [
        {
          "output_type": "display_data",
          "data": {
            "text/plain": [
              "<Figure size 1000x600 with 1 Axes>"
            ],
            "image/png": "[encoded data removed]"
          },
          "metadata": {}
        }
      ]
    },
    {
      "cell_type": "markdown",
      "source": [
        "### Are there specific months with higher counts of \"Persons on Trackbed/Police/Medical\" incidents?"
      ],
      "metadata": {
        "id": "sh8-_pcJ1uzr"
      }
    },
    {
      "cell_type": "code",
      "source": [
        "# Filter dataset for incidents where category is \"Persons on Trackbed/Police/Medical\"\n",
        "trackbed_incidents = incidents[incidents[\"category\"] == \"Persons on Trackbed/Police/Medical\"]\n",
        "\n",
        "# Group by 'month_name' and sum the 'count' of incidents, ensuring correct month order\n",
        "ordered_months = ['Jan', 'Feb', 'Mar', 'Apr', 'May', 'Jun', 'Jul', 'Aug', 'Sep', 'Oct', 'Nov', 'Dec']\n",
        "monthly_trackbed_incidents = trackbed_incidents.groupby('month_name')['count'].sum()[ordered_months]\n",
        "\n",
        "# Find the months with the highest incident counts\n",
        "max_incidents_value = monthly_trackbed_incidents.max()\n",
        "months_with_max_incidents = monthly_trackbed_incidents[monthly_trackbed_incidents == max_incidents_value]\n",
        "\n",
        "# Create figure and plot\n",
        "fig, ax = plt.subplots(figsize=(10, 6))\n",
        "monthly_trackbed_incidents.plot(kind='bar', color='skyblue', ax=ax, title=\"Monthly 'Persons on Trackbed/Police/Medical' Incidents\", edgecolor='black')\n",
        "ax.set_xlabel('Month')\n",
        "ax.set_ylabel('Number of Incidents')\n",
        "plt.xticks(rotation=45)\n",
        "plt.tight_layout()\n",
        "plt.show()\n",
        "\n",
        "# Print the months with the highest number of incidents\n",
        "print(f\"The months with the highest number of 'Persons on Trackbed/Police/Medical' incidents ({max_incidents_value} incidents) are:\")\n",
        "print(months_with_max_incidents)\n"
      ],
      "metadata": {
        "colab": {
          "base_uri": "https://localhost:8080/",
          "height": 694
        },
        "id": "Ea7HgHeJD3GR",
        "outputId": "1f5f5f62-af7b-4b96-c88f-ada985371351"
      },
      "execution_count": 10,
      "outputs": [
        {
          "output_type": "display_data",
          "data": {
            "text/plain": [
              "<Figure size 1000x600 with 1 Axes>"
            ],
            "image/png": "[encoded data removed]"
          },
          "metadata": {}
        },
        {
          "output_type": "stream",
          "name": "stdout",
          "text": [
            "The months with the highest number of 'Persons on Trackbed/Police/Medical' incidents (79 incidents) are:\n",
            "month_name\n",
            "Jan    79\n",
            "Mar    79\n",
            "Name: count, dtype: int64\n"
          ]
        }
      ]
    },
    {
      "cell_type": "code",
      "source": [
        "incidents.head()"
      ],
      "metadata": {
        "colab": {
          "base_uri": "https://localhost:8080/",
          "height": 206
        },
        "id": "-DjvmYLc2W5B",
        "outputId": "55506d04-f4ce-413e-b489-e3c8b263b38b"
      },
      "execution_count": 11,
      "outputs": [
        {
          "output_type": "execute_result",
          "data": {
            "text/plain": [
              "        month    division line  day_type                            category  \\\n",
              "0  2020-01-01  A DIVISION    1         1                               Other   \n",
              "1  2020-01-01  A DIVISION    2         1  Persons on Trackbed/Police/Medical   \n",
              "2  2020-01-01  A DIVISION    2         2                               Other   \n",
              "3  2020-01-01  A DIVISION    3         1  Persons on Trackbed/Police/Medical   \n",
              "4  2020-01-01  A DIVISION    3         1                             Signals   \n",
              "\n",
              "   count month_name month_year  \n",
              "0      1        Jan    2020-01  \n",
              "1      1        Jan    2020-01  \n",
              "2      1        Jan    2020-01  \n",
              "3      1        Jan    2020-01  \n",
              "4      2        Jan    2020-01  "
            ],
            "text/html": [
              "\n",
              "  <div id=\"df-1722790a-7f71-4fe3-a8c7-3c7663707afe\" class=\"colab-df-container\">\n",
              "    <div>\n",
              "<style scoped>\n",
              "    .dataframe tbody tr th:only-of-type {\n",
              "        vertical-align: middle;\n",
              "    }\n",
              "\n",
              "    .dataframe tbody tr th {\n",
              "        vertical-align: top;\n",
              "    }\n",
              "\n",
              "    .dataframe thead th {\n",
              "        text-align: right;\n",
              "    }\n",
              "</style>\n",
              "<table border=\"1\" class=\"dataframe\">\n",
              "  <thead>\n",
              "    <tr style=\"text-align: right;\">\n",
              "      <th></th>\n",
              "      <th>month</th>\n",
              "      <th>division</th>\n",
              "      <th>line</th>\n",
              "      <th>day_type</th>\n",
              "      <th>category</th>\n",
              "      <th>count</th>\n",
              "      <th>month_name</th>\n",
              "      <th>month_year</th>\n",
              "    </tr>\n",
              "  </thead>\n",
              "  <tbody>\n",
              "    <tr>\n",
              "      <th>0</th>\n",
              "      <td>2020-01-01</td>\n",
              "      <td>A DIVISION</td>\n",
              "      <td>1</td>\n",
              "      <td>1</td>\n",
              "      <td>Other</td>\n",
              "      <td>1</td>\n",
              "      <td>Jan</td>\n",
              "      <td>2020-01</td>\n",
              "    </tr>\n",
              "    <tr>\n",
              "      <th>1</th>\n",
              "      <td>2020-01-01</td>\n",
              "      <td>A DIVISION</td>\n",
              "      <td>2</td>\n",
              "      <td>1</td>\n",
              "      <td>Persons on Trackbed/Police/Medical</td>\n",
              "      <td>1</td>\n",
              "      <td>Jan</td>\n",
              "      <td>2020-01</td>\n",
              "    </tr>\n",
              "    <tr>\n",
              "      <th>2</th>\n",
              "      <td>2020-01-01</td>\n",
              "      <td>A DIVISION</td>\n",
              "      <td>2</td>\n",
              "      <td>2</td>\n",
              "      <td>Other</td>\n",
              "      <td>1</td>\n",
              "      <td>Jan</td>\n",
              "      <td>2020-01</td>\n",
              "    </tr>\n",
              "    <tr>\n",
              "      <th>3</th>\n",
              "      <td>2020-01-01</td>\n",
              "      <td>A DIVISION</td>\n",
              "      <td>3</td>\n",
              "      <td>1</td>\n",
              "      <td>Persons on Trackbed/Police/Medical</td>\n",
              "      <td>1</td>\n",
              "      <td>Jan</td>\n",
              "      <td>2020-01</td>\n",
              "    </tr>\n",
              "    <tr>\n",
              "      <th>4</th>\n",
              "      <td>2020-01-01</td>\n",
              "      <td>A DIVISION</td>\n",
              "      <td>3</td>\n",
              "      <td>1</td>\n",
              "      <td>Signals</td>\n",
              "      <td>2</td>\n",
              "      <td>Jan</td>\n",
              "      <td>2020-01</td>\n",
              "    </tr>\n",
              "  </tbody>\n",
              "</table>\n",
              "</div>\n",
              "    <div class=\"colab-df-buttons\">\n",
              "\n",
              "  <div class=\"colab-df-container\">\n",
              "    <button class=\"colab-df-convert\" onclick=\"convertToInteractive('df-1722790a-7f71-4fe3-a8c7-3c7663707afe')\"\n",
              "            title=\"Convert this dataframe to an interactive table.\"\n",
              "            style=\"display:none;\">\n",
              "\n",
              "  <svg xmlns=\"http://www.w3.org/2000/svg\" height=\"24px\" viewBox=\"0 -960 960 960\">\n",
              "    <path d=\"M120-120v-720h720v720H120Zm60-500h600v-160H180v160Zm220 220h160v-160H400v160Zm0 220h160v-160H400v160ZM180-400h160v-160H180v160Zm440 0h160v-160H620v160ZM180-180h160v-160H180v160Zm440 0h160v-160H620v160Z\"/>\n",
              "  </svg>\n",
              "    </button>\n",
              "\n",
              "  <style>\n",
              "    .colab-df-container {\n",
              "      display:flex;\n",
              "      gap: 12px;\n",
              "    }\n",
              "\n",
              "    .colab-df-convert {\n",
              "      background-color: #E8F0FE;\n",
              "      border: none;\n",
              "      border-radius: 50%;\n",
              "      cursor: pointer;\n",
              "      display: none;\n",
              "      fill: #1967D2;\n",
              "      height: 32px;\n",
              "      padding: 0 0 0 0;\n",
              "      width: 32px;\n",
              "    }\n",
              "\n",
              "    .colab-df-convert:hover {\n",
              "      background-color: #E2EBFA;\n",
              "      box-shadow: 0px 1px 2px rgba(60, 64, 67, 0.3), 0px 1px 3px 1px rgba(60, 64, 67, 0.15);\n",
              "      fill: #174EA6;\n",
              "    }\n",
              "\n",
              "    .colab-df-buttons div {\n",
              "      margin-bottom: 4px;\n",
              "    }\n",
              "\n",
              "    [theme=dark] .colab-df-convert {\n",
              "      background-color: #3B4455;\n",
              "      fill: #D2E3FC;\n",
              "    }\n",
              "\n",
              "    [theme=dark] .colab-df-convert:hover {\n",
              "      background-color: #434B5C;\n",
              "      box-shadow: 0px 1px 3px 1px rgba(0, 0, 0, 0.15);\n",
              "      filter: drop-shadow(0px 1px 2px rgba(0, 0, 0, 0.3));\n",
              "      fill: #FFFFFF;\n",
              "    }\n",
              "  </style>\n",
              "\n",
              "    <script>\n",
              "      const buttonEl =\n",
              "        document.querySelector('#df-1722790a-7f71-4fe3-a8c7-3c7663707afe button.colab-df-convert');\n",
              "      buttonEl.style.display =\n",
              "        google.colab.kernel.accessAllowed ? 'block' : 'none';\n",
              "\n",
              "      async function convertToInteractive(key) {\n",
              "        const element = document.querySelector('#df-1722790a-7f71-4fe3-a8c7-3c7663707afe');\n",
              "        const dataTable =\n",
              "          await google.colab.kernel.invokeFunction('convertToInteractive',\n",
              "                                                    [key], {});\n",
              "        if (!dataTable) return;\n",
              "\n",
              "        const docLinkHtml = 'Like what you see? Visit the ' +\n",
              "          '<a target=\"_blank\" href=https://colab.research.google.com/notebooks/data_table.ipynb>data table notebook</a>'\n",
              "          + ' to learn more about interactive tables.';\n",
              "        element.innerHTML = '';\n",
              "        dataTable['output_type'] = 'display_data';\n",
              "        await google.colab.output.renderOutput(dataTable, element);\n",
              "        const docLink = document.createElement('div');\n",
              "        docLink.innerHTML = docLinkHtml;\n",
              "        element.appendChild(docLink);\n",
              "      }\n",
              "    </script>\n",
              "  </div>\n",
              "\n",
              "\n",
              "<div id=\"df-3636faf4-c47b-4ea4-ade2-b50e12e72d9d\">\n",
              "  <button class=\"colab-df-quickchart\" onclick=\"quickchart('df-3636faf4-c47b-4ea4-ade2-b50e12e72d9d')\"\n",
              "            title=\"Suggest charts\"\n",
              "            style=\"display:none;\">\n",
              "\n",
              "<svg xmlns=\"http://www.w3.org/2000/svg\" height=\"24px\"viewBox=\"0 0 24 24\"\n",
              "     width=\"24px\">\n",
              "    <g>\n",
              "        <path d=\"M19 3H5c-1.1 0-2 .9-2 2v14c0 1.1.9 2 2 2h14c1.1 0 2-.9 2-2V5c0-1.1-.9-2-2-2zM9 17H7v-7h2v7zm4 0h-2V7h2v10zm4 0h-2v-4h2v4z\"/>\n",
              "    </g>\n",
              "</svg>\n",
              "  </button>\n",
              "\n",
              "<style>\n",
              "  .colab-df-quickchart {\n",
              "      --bg-color: #E8F0FE;\n",
              "      --fill-color: #1967D2;\n",
              "      --hover-bg-color: #E2EBFA;\n",
              "      --hover-fill-color: #174EA6;\n",
              "      --disabled-fill-color: #AAA;\n",
              "      --disabled-bg-color: #DDD;\n",
              "  }\n",
              "\n",
              "  [theme=dark] .colab-df-quickchart {\n",
              "      --bg-color: #3B4455;\n",
              "      --fill-color: #D2E3FC;\n",
              "      --hover-bg-color: #434B5C;\n",
              "      --hover-fill-color: #FFFFFF;\n",
              "      --disabled-bg-color: #3B4455;\n",
              "      --disabled-fill-color: #666;\n",
              "  }\n",
              "\n",
              "  .colab-df-quickchart {\n",
              "    background-color: var(--bg-color);\n",
              "    border: none;\n",
              "    border-radius: 50%;\n",
              "    cursor: pointer;\n",
              "    display: none;\n",
              "    fill: var(--fill-color);\n",
              "    height: 32px;\n",
              "    padding: 0;\n",
              "    width: 32px;\n",
              "  }\n",
              "\n",
              "  .colab-df-quickchart:hover {\n",
              "    background-color: var(--hover-bg-color);\n",
              "    box-shadow: 0 1px 2px rgba(60, 64, 67, 0.3), 0 1px 3px 1px rgba(60, 64, 67, 0.15);\n",
              "    fill: var(--button-hover-fill-color);\n",
              "  }\n",
              "\n",
              "  .colab-df-quickchart-complete:disabled,\n",
              "  .colab-df-quickchart-complete:disabled:hover {\n",
              "    background-color: var(--disabled-bg-color);\n",
              "    fill: var(--disabled-fill-color);\n",
              "    box-shadow: none;\n",
              "  }\n",
              "\n",
              "  .colab-df-spinner {\n",
              "    border: 2px solid var(--fill-color);\n",
              "    border-color: transparent;\n",
              "    border-bottom-color: var(--fill-color);\n",
              "    animation:\n",
              "      spin 1s steps(1) infinite;\n",
              "  }\n",
              "\n",
              "  @keyframes spin {\n",
              "    0% {\n",
              "      border-color: transparent;\n",
              "      border-bottom-color: var(--fill-color);\n",
              "      border-left-color: var(--fill-color);\n",
              "    }\n",
              "    20% {\n",
              "      border-color: transparent;\n",
              "      border-left-color: var(--fill-color);\n",
              "      border-top-color: var(--fill-color);\n",
              "    }\n",
              "    30% {\n",
              "      border-color: transparent;\n",
              "      border-left-color: var(--fill-color);\n",
              "      border-top-color: var(--fill-color);\n",
              "      border-right-color: var(--fill-color);\n",
              "    }\n",
              "    40% {\n",
              "      border-color: transparent;\n",
              "      border-right-color: var(--fill-color);\n",
              "      border-top-color: var(--fill-color);\n",
              "    }\n",
              "    60% {\n",
              "      border-color: transparent;\n",
              "      border-right-color: var(--fill-color);\n",
              "    }\n",
              "    80% {\n",
              "      border-color: transparent;\n",
              "      border-right-color: var(--fill-color);\n",
              "      border-bottom-color: var(--fill-color);\n",
              "    }\n",
              "    90% {\n",
              "      border-color: transparent;\n",
              "      border-bottom-color: var(--fill-color);\n",
              "    }\n",
              "  }\n",
              "</style>\n",
              "\n",
              "  <script>\n",
              "    async function quickchart(key) {\n",
              "      const quickchartButtonEl =\n",
              "        document.querySelector('#' + key + ' button');\n",
              "      quickchartButtonEl.disabled = true;  // To prevent multiple clicks.\n",
              "      quickchartButtonEl.classList.add('colab-df-spinner');\n",
              "      try {\n",
              "        const charts = await google.colab.kernel.invokeFunction(\n",
              "            'suggestCharts', [key], {});\n",
              "      } catch (error) {\n",
              "        console.error('Error during call to suggestCharts:', error);\n",
              "      }\n",
              "      quickchartButtonEl.classList.remove('colab-df-spinner');\n",
              "      quickchartButtonEl.classList.add('colab-df-quickchart-complete');\n",
              "    }\n",
              "    (() => {\n",
              "      let quickchartButtonEl =\n",
              "        document.querySelector('#df-3636faf4-c47b-4ea4-ade2-b50e12e72d9d button');\n",
              "      quickchartButtonEl.style.display =\n",
              "        google.colab.kernel.accessAllowed ? 'block' : 'none';\n",
              "    })();\n",
              "  </script>\n",
              "</div>\n",
              "\n",
              "    </div>\n",
              "  </div>\n"
            ],
            "application/vnd.google.colaboratory.intrinsic+json": {
              "type": "dataframe",
              "variable_name": "incidents",
              "summary": "{\n  \"name\": \"incidents\",\n  \"rows\": 1966,\n  \"fields\": [\n    {\n      \"column\": \"month\",\n      \"properties\": {\n        \"dtype\": \"object\",\n        \"num_unique_values\": 59,\n        \"samples\": [\n          \"2020-01-01\",\n          \"2020-06-01\",\n          \"2022-11-01\"\n        ],\n        \"semantic_type\": \"\",\n        \"description\": \"\"\n      }\n    },\n    {\n      \"column\": \"division\",\n      \"properties\": {\n        \"dtype\": \"category\",\n        \"num_unique_values\": 2,\n        \"samples\": [\n          \"B DIVISION\",\n          \"A DIVISION\"\n        ],\n        \"semantic_type\": \"\",\n        \"description\": \"\"\n      }\n    },\n    {\n      \"column\": \"line\",\n      \"properties\": {\n        \"dtype\": \"category\",\n        \"num_unique_values\": 23,\n        \"samples\": [\n          \"R\",\n          \"D\"\n        ],\n        \"semantic_type\": \"\",\n        \"description\": \"\"\n      }\n    },\n    {\n      \"column\": \"day_type\",\n      \"properties\": {\n        \"dtype\": \"number\",\n        \"std\": 0,\n        \"min\": 1,\n        \"max\": 2,\n        \"num_unique_values\": 2,\n        \"samples\": [\n          2,\n          1\n        ],\n        \"semantic_type\": \"\",\n        \"description\": \"\"\n      }\n    },\n    {\n      \"column\": \"category\",\n      \"properties\": {\n        \"dtype\": \"category\",\n        \"num_unique_values\": 6,\n        \"samples\": [\n          \"Other\",\n          \"Persons on Trackbed/Police/Medical\"\n        ],\n        \"semantic_type\": \"\",\n        \"description\": \"\"\n      }\n    },\n    {\n      \"column\": \"count\",\n      \"properties\": {\n        \"dtype\": \"number\",\n        \"std\": 0,\n        \"min\": 1,\n        \"max\": 5,\n        \"num_unique_values\": 5,\n        \"samples\": [\n          2,\n          5\n        ],\n        \"semantic_type\": \"\",\n        \"description\": \"\"\n      }\n    },\n    {\n      \"column\": \"month_name\",\n      \"properties\": {\n        \"dtype\": \"category\",\n        \"num_unique_values\": 12,\n        \"samples\": [\n          \"Nov\",\n          \"Oct\"\n        ],\n        \"semantic_type\": \"\",\n        \"description\": \"\"\n      }\n    },\n    {\n      \"column\": \"month_year\",\n      \"properties\": {\n        \"dtype\": \"period[M]\",\n        \"num_unique_values\": 59,\n        \"samples\": [\n          \"2020-01\",\n          \"2020-06\"\n        ],\n        \"semantic_type\": \"\",\n        \"description\": \"\"\n      }\n    }\n  ]\n}"
            }
          },
          "metadata": {},
          "execution_count": 11
        }
      ]
    },
    {
      "cell_type": "markdown",
      "source": [
        "### Which subway line has the highest number of incidents overall?"
      ],
      "metadata": {
        "id": "q0nABc6E2Vxz"
      }
    },
    {
      "cell_type": "markdown",
      "source": [],
      "metadata": {
        "id": "XWpd4xj-07IN"
      }
    },
    {
      "cell_type": "code",
      "source": [
        "# Group by 'line' and sum the 'count' of incidents for each line\n",
        "most_line = incidents.groupby('line')['count'].sum().sort_values(ascending=False)\n",
        "\n",
        "# Extract the line name and the corresponding incident count\n",
        "line_with_highest_incidents = most_line.idxmax()  # Gets the line with the max incidents\n",
        "incidents_count = most_line.max()  # Gets the number of incidents for that line\n",
        "\n",
        "# Print the result\n",
        "print(f\"The subway line with the highest number of incidents is {line_with_highest_incidents} with {incidents_count} incidents.\")\n"
      ],
      "metadata": {
        "colab": {
          "base_uri": "https://localhost:8080/"
        },
        "id": "6Eim8XCSYN6u",
        "outputId": "8856da08-71be-4778-d9da-287034bb23a0"
      },
      "execution_count": 16,
      "outputs": [
        {
          "output_type": "stream",
          "name": "stdout",
          "text": [
            "The subway line with the highest number of incidents is 6 with 216 incidents.\n"
          ]
        }
      ]
    },
    {
      "cell_type": "markdown",
      "source": [
        "### What is the average number of incidents across all subway lines, and which lines exceed this average?"
      ],
      "metadata": {
        "id": "mhYcKQjbWsts"
      }
    },
    {
      "cell_type": "code",
      "source": [
        "# Calculate the overall average of incidents across all subway lines.\n",
        "overall_average_incidents = incidents['count'].mean()\n",
        "\n",
        "# Calculate the average number of incidents per line\n",
        "average_line_incidents = incidents.groupby('line')['count'].mean()\n",
        "\n",
        "# Find the lines where the average incidents per line exceed the overall average\n",
        "lines_exceeding_average = average_line_incidents[average_line_incidents > overall_average_incidents]\n",
        "\n",
        "# Print the results\n",
        "print(f\"Average number of incidents across all lines: {overall_average_incidents}\\n\\n\")\n",
        "\n",
        "# Plotting the lines exceeding the average number of incidents per line\n",
        "fig, ax = plt.subplots(figsize=(12, 8))\n",
        "lines_exceeding_average.plot(kind='bar', color='skyblue', edgecolor='black', ax=ax, title=\"Lines Exceeding the Average Number of Incidents per Line\")\n",
        "ax.set_xlabel('Line')\n",
        "ax.set_ylabel('Average Number of Incidents')\n",
        "plt.xticks(rotation=0)\n",
        "plt.tight_layout()\n",
        "plt.show()\n"
      ],
      "metadata": {
        "colab": {
          "base_uri": "https://localhost:8080/",
          "height": 879
        },
        "id": "PQeDiARxYOnk",
        "outputId": "6c87df93-b9cb-4f0f-a334-35a525d51ea1"
      },
      "execution_count": 63,
      "outputs": [
        {
          "output_type": "stream",
          "name": "stdout",
          "text": [
            "Average number of incidents across all lines: 1.3056968463886063\n",
            "\n",
            "\n"
          ]
        },
        {
          "output_type": "display_data",
          "data": {
            "text/plain": [
              "<Figure size 1200x800 with 1 Axes>"
            ],
            "image/png": "[encoded data removed]"
          },
          "metadata": {}
        }
      ]
    },
    {
      "cell_type": "markdown",
      "source": [
        "### How do incidents on Line 1 differ from those on Line 2 in terms of categories and counts?"
      ],
      "metadata": {
        "id": "SPKzIb8pWs73"
      }
    },
    {
      "cell_type": "code",
      "source": [],
      "metadata": {
        "id": "HXm8_EaVYPMM"
      },
      "execution_count": 52,
      "outputs": []
    },
    {
      "cell_type": "markdown",
      "source": [],
      "metadata": {
        "id": "02-Xi2je9mnr"
      }
    },
    {
      "cell_type": "markdown",
      "source": [
        "### What is the total count of incidents on weekdays compared to weekends?"
      ],
      "metadata": {
        "id": "G60hXTkvWtAL"
      }
    },
    {
      "cell_type": "code",
      "source": [],
      "metadata": {
        "id": "ufgcFMdJYPx_"
      },
      "execution_count": 12,
      "outputs": []
    },
    {
      "cell_type": "markdown",
      "source": [
        "### Which categories of incidents are more frequent on weekdays versus weekends?"
      ],
      "metadata": {
        "id": "GTY2Jp3QWtEd"
      }
    },
    {
      "cell_type": "code",
      "source": [],
      "metadata": {
        "id": "CninsJvtYQkB"
      },
      "execution_count": 12,
      "outputs": []
    },
    {
      "cell_type": "markdown",
      "source": [
        "### Do specific lines have a higher proportion of incidents on weekends?"
      ],
      "metadata": {
        "id": "GUzvB41nWtJX"
      }
    },
    {
      "cell_type": "code",
      "source": [],
      "metadata": {
        "id": "i4XY1XKdYRE0"
      },
      "execution_count": 12,
      "outputs": []
    },
    {
      "cell_type": "markdown",
      "source": [
        "### What is the total number of incidents in the A Division versus the B Division?"
      ],
      "metadata": {
        "id": "Vuut1LO-WtN5"
      }
    },
    {
      "cell_type": "code",
      "source": [],
      "metadata": {
        "id": "vtf_NxuhYRp7"
      },
      "execution_count": 12,
      "outputs": []
    },
    {
      "cell_type": "markdown",
      "source": [
        "### Are there differences in the most frequent incident categories between the two divisions?"
      ],
      "metadata": {
        "id": "bEWYUEwVWtSM"
      }
    },
    {
      "cell_type": "code",
      "source": [],
      "metadata": {
        "id": "RlIdUNDZYSVB"
      },
      "execution_count": 12,
      "outputs": []
    },
    {
      "cell_type": "markdown",
      "source": [
        "### Is there a significant difference in average monthly incidents between the A and B Divisions?\n"
      ],
      "metadata": {
        "id": "jtafynUeWtU9"
      }
    },
    {
      "cell_type": "code",
      "source": [],
      "metadata": {
        "id": "d8LAoJ-9YS7-"
      },
      "execution_count": 12,
      "outputs": []
    },
    {
      "cell_type": "markdown",
      "source": [
        "### Which category of incidents is most common, and on which line does it occur most often?"
      ],
      "metadata": {
        "id": "riI2_niMWtat"
      }
    },
    {
      "cell_type": "code",
      "source": [],
      "metadata": {
        "id": "O_y4d-OwYT0k"
      },
      "execution_count": 12,
      "outputs": []
    },
    {
      "cell_type": "markdown",
      "source": [
        "### How do track-related incidents compare in frequency to signal-related incidents across all lines?"
      ],
      "metadata": {
        "id": "5l8VOSDvWtee"
      }
    },
    {
      "cell_type": "code",
      "source": [],
      "metadata": {
        "id": "bO6j4bCOYVXn"
      },
      "execution_count": 12,
      "outputs": []
    },
    {
      "cell_type": "markdown",
      "source": [
        "### Are certain categories more prevalent in one division over the other?"
      ],
      "metadata": {
        "id": "DD12JagFWtiK"
      }
    },
    {
      "cell_type": "code",
      "source": [],
      "metadata": {
        "id": "avFo54BBYXbS"
      },
      "execution_count": 12,
      "outputs": []
    },
    {
      "cell_type": "markdown",
      "source": [
        "### Are there outliers in the data where a specific line or month has unusually high incident counts?"
      ],
      "metadata": {
        "id": "m_08T1YTWtmI"
      }
    },
    {
      "cell_type": "code",
      "source": [],
      "metadata": {
        "id": "ep62eTMvYYsj"
      },
      "execution_count": 12,
      "outputs": []
    },
    {
      "cell_type": "markdown",
      "source": [
        "### What is the correlation between \"day_type\" and incident count?"
      ],
      "metadata": {
        "id": "oCvEJn7GWtqJ"
      }
    },
    {
      "cell_type": "code",
      "source": [],
      "metadata": {
        "id": "zjQxtbywYfSx"
      },
      "execution_count": 12,
      "outputs": []
    },
    {
      "cell_type": "markdown",
      "source": [
        "### Can you identify any seasonality or patterns in the data for incident counts across the months?"
      ],
      "metadata": {
        "id": "iO8A-j_yWtt-"
      }
    },
    {
      "cell_type": "code",
      "source": [],
      "metadata": {
        "id": "viGui2s6Yf2x"
      },
      "execution_count": 12,
      "outputs": []
    },
    {
      "cell_type": "markdown",
      "source": [
        "### What are the mean, median, and standard deviation of incident counts across all records?"
      ],
      "metadata": {
        "id": "_m5SthXJWtxu"
      }
    },
    {
      "cell_type": "code",
      "source": [],
      "metadata": {
        "id": "_r3WBnNtYgbW"
      },
      "execution_count": 12,
      "outputs": []
    },
    {
      "cell_type": "markdown",
      "source": [
        "### Can you create a pivot table to summarize incident counts by division and category?"
      ],
      "metadata": {
        "id": "nfQr6nAaWt1Z"
      }
    },
    {
      "cell_type": "code",
      "source": [],
      "metadata": {
        "id": "Te9xYG7BYg9M"
      },
      "execution_count": 12,
      "outputs": []
    },
    {
      "cell_type": "markdown",
      "source": [
        "### Can you visualize the data trends using matplotlib or seaborn (e.g., bar plots, line plots)?"
      ],
      "metadata": {
        "id": "LNOC16RwWt5b"
      }
    },
    {
      "cell_type": "code",
      "source": [],
      "metadata": {
        "id": "yijS0_kcYhkc"
      },
      "execution_count": 12,
      "outputs": []
    },
    {
      "cell_type": "markdown",
      "source": [
        "### How can NumPy be used to calculate the percentage of incidents per category?"
      ],
      "metadata": {
        "id": "D6H6-Ng8X3xh"
      }
    },
    {
      "cell_type": "code",
      "source": [],
      "metadata": {
        "id": "IYjdTMvoYiOe"
      },
      "execution_count": 12,
      "outputs": []
    },
    {
      "cell_type": "code",
      "source": [],
      "metadata": {
        "id": "jCmkgMNoNzxG"
      },
      "execution_count": 12,
      "outputs": []
    },
    {
      "cell_type": "code",
      "source": [],
      "metadata": {
        "id": "zwx9_8l-Nz06"
      },
      "execution_count": 12,
      "outputs": []
    },
    {
      "cell_type": "code",
      "source": [],
      "metadata": {
        "id": "f852Yw7lNz7s"
      },
      "execution_count": 12,
      "outputs": []
    }
  ]
}